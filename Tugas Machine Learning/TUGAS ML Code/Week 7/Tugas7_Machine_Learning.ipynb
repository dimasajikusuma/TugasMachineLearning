{
  "nbformat": 4,
  "nbformat_minor": 0,
  "metadata": {
    "colab": {
      "name": "Tugas7_Machine Learning.ipynb",
      "provenance": []
    },
    "kernelspec": {
      "name": "python3",
      "display_name": "Python 3"
    },
    "language_info": {
      "name": "python"
    }
  },
  "cells": [
    {
      "cell_type": "markdown",
      "metadata": {
        "id": "EsgFQqfxofga"
      },
      "source": [
        "Nama : Dimas Aji Kusuma <br>\n",
        "NIM  : 110318403"
      ]
    },
    {
      "cell_type": "markdown",
      "metadata": {
        "id": "sKNO-dBIoml6"
      },
      "source": [
        "# XGBoost (eXtreme Gradient Boosting)"
      ]
    },
    {
      "cell_type": "markdown",
      "metadata": {
        "id": "CLKISekroprh"
      },
      "source": [
        "# Example using XGBoost"
      ]
    },
    {
      "cell_type": "code",
      "metadata": {
        "id": "_zF00MLnus3Z"
      },
      "source": [
        "#Import Required Modules\n",
        "import pandas as pd\n",
        "from sklearn.model_selection import train_test_split\n",
        "from sklearn.impute import SimpleImputer as Imputer\n",
        "\n",
        "from xgboost import XGBRegressor"
      ],
      "execution_count": 9,
      "outputs": []
    },
    {
      "cell_type": "markdown",
      "metadata": {
        "id": "rusOECpqo0T6"
      },
      "source": [
        "We will start with the data pre-loaded into train_X, test_X, train_y, test_y."
      ]
    },
    {
      "cell_type": "code",
      "metadata": {
        "id": "vkjxVlgDy6HI"
      },
      "source": [
        "data = pd.read_csv('train.csv')\n",
        "data.dropna(axis=0, subset=['SalePrice'], inplace=True)\n",
        "y = data.SalePrice\n",
        "X = data.drop(['SalePrice'], axis=1).select_dtypes(exclude=['object'])\n",
        "train_X, test_X, train_y, test_y = train_test_split(X.to_numpy(), y.to_numpy(), test_size=0.25)\n",
        "\n",
        "my_imputer = Imputer()\n",
        "train_X = my_imputer.fit_transform(train_X)\n",
        "test_X = my_imputer.transform(test_X)"
      ],
      "execution_count": 13,
      "outputs": []
    },
    {
      "cell_type": "markdown",
      "metadata": {
        "id": "_-nuFY9Qo3jY"
      },
      "source": [
        "We build and fit a model just as we would in scikit-learn."
      ]
    },
    {
      "cell_type": "code",
      "metadata": {
        "id": "AUA4Udfdy6EA",
        "colab": {
          "base_uri": "https://localhost:8080/"
        },
        "outputId": "bf884818-566e-47f9-ec10-632666e792e1"
      },
      "source": [
        "my_model = XGBRegressor()\n",
        "# Add silent=True to avoid printing out updates with each cycle\n",
        "my_model.fit(train_X, train_y, verbose=False)"
      ],
      "execution_count": 14,
      "outputs": [
        {
          "output_type": "stream",
          "name": "stdout",
          "text": [
            "[12:05:51] WARNING: /workspace/src/objective/regression_obj.cu:152: reg:linear is now deprecated in favor of reg:squarederror.\n"
          ]
        },
        {
          "output_type": "execute_result",
          "data": {
            "text/plain": [
              "XGBRegressor()"
            ]
          },
          "metadata": {},
          "execution_count": 14
        }
      ]
    },
    {
      "cell_type": "code",
      "metadata": {
        "id": "cBUJ24x1y6Bj",
        "colab": {
          "base_uri": "https://localhost:8080/"
        },
        "outputId": "79abc40b-86c0-44bb-93f2-562aad23d48d"
      },
      "source": [
        "# make predictions\n",
        "predictions = my_model.predict(test_X)\n",
        "\n",
        "from sklearn.metrics import mean_absolute_error\n",
        "print(\"Mean Absolute Error : \" + str(mean_absolute_error(predictions, test_y)))s"
      ],
      "execution_count": 15,
      "outputs": [
        {
          "output_type": "stream",
          "name": "stdout",
          "text": [
            "Mean Absolute Error : 15846.21922089041\n"
          ]
        }
      ]
    }
  ]
}